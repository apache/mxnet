{
 "cells": [
  {
   "cell_type": "markdown",
   "metadata": {},
   "source": [
    "# Sorting numbers using a Bi-LSTM"
   ]
  },
  {
   "cell_type": "markdown",
   "metadata": {},
   "source": [
    "In this notebook, we will show you how to sort a sequence of integers using a bi-lstm.\n",
    "It also shows how you can use the newer ndarray and symbol APIs in clojure to accomplish this.\n",
    "\n",
    "Let's first start off with importing the libraries required."
   ]
  },
  {
   "cell_type": "code",
   "execution_count": 1,
   "metadata": {},
   "outputs": [],
   "source": [
    ";; Licensed to the Apache Software Foundation (ASF) under one or more\n",
    ";; contributor license agreements.  See the NOTICE file distributed with\n",
    ";; this work for additional information regarding copyright ownership.\n",
    ";; The ASF licenses this file to You under the Apache License, Version 2.0\n",
    ";; (the \"License\"); you may not use this file except in compliance with\n",
    ";; the License.  You may obtain a copy of the License at\n",
    ";;\n",
    ";;    http://www.apache.org/licenses/LICENSE-2.0\n",
    ";;\n",
    ";; Unless required by applicable law or agreed to in writing, software\n",
    ";; distributed under the License is distributed on an \"AS IS\" BASIS,\n",
    ";; WITHOUT WARRANTIES OR CONDITIONS OF ANY KIND, either express or implied.\n",
    ";; See the License for the specific language governing permissions and\n",
    ";; limitations under the License.\n",
    ";;\n",
    "\n",
    "(ns bi-lstm-sort.core\n",
    "  (:require [org.apache.clojure-mxnet.context :as context]\n",
    "            [org.apache.clojure-mxnet.callback :as callback]\n",
    "            [org.apache.clojure-mxnet.dtype :as dtype]\n",
    "            [org.apache.clojure-mxnet.eval-metric :as eval-metric]\n",
    "            [org.apache.clojure-mxnet.initializer :as initializer]\n",
    "            [org.apache.clojure-mxnet.io :as mx-io]\n",
    "            [org.apache.clojure-mxnet.module :as m]\n",
    "            [org.apache.clojure-mxnet.layout :as layout]\n",
    "            [org.apache.clojure-mxnet.lr-scheduler :as lr-scheduler]\n",
    "            [org.apache.clojure-mxnet.ndarray :as ndarray]\n",
    "            [org.apache.clojure-mxnet.ndarray-api :as ndarray-api]\n",
    "            [org.apache.clojure-mxnet.optimizer :as optimizer]\n",
    "            [org.apache.clojure-mxnet.random :as random]\n",
    "            [org.apache.clojure-mxnet.symbol :as sym]\n",
    "            [org.apache.clojure-mxnet.symbol-api :as sym-api]\n",
    "            [org.apache.clojure-mxnet.visualization :as viz]))"
   ]
  },
  {
   "cell_type": "markdown",
   "metadata": {},
   "source": [
    "## Data Preparation"
   ]
  },
  {
   "cell_type": "code",
   "execution_count": 2,
   "metadata": {},
   "outputs": [
    {
     "data": {
      "text/plain": [
       "#'bi-lstm-sort.core/batch-size"
      ]
     },
     "execution_count": 2,
     "metadata": {},
     "output_type": "execute_result"
    }
   ],
   "source": [
    ";; (def max-num 999)\n",
    ";; (def dataset-size 60000)\n",
    ";; (def seq-len 5)\n",
    ";; (def split 0.8)\n",
    ";; (def batch-size 256)\n",
    "\n",
    "(def max-num 99)\n",
    "(def dataset-size 5000)\n",
    "(def seq-len 5)\n",
    "(def split 0.8)\n",
    "(def batch-size 50)"
   ]
  },
  {
   "cell_type": "markdown",
   "metadata": {},
   "source": [
    "We are getting a dataset of **dataset-size** sequences of integers of length **seq-len** between **0** and **max-num**. \n",
    "We use **split*100%** of them for training and the rest for testing.\n",
    "\n",
    "\n",
    "For example:\n",
    "\n",
    "50 10 20 99 30\n",
    "\n",
    "Should return\n",
    "\n",
    "10 20 30 50 99"
   ]
  },
  {
   "cell_type": "code",
   "execution_count": 3,
   "metadata": {},
   "outputs": [
    {
     "name": "stdout",
     "output_type": "stream",
     "text": [
      "Max sequence length: 14\n"
     ]
    }
   ],
   "source": [
    ";; (def num-layers 2)\n",
    ";; (def state-size 128)\n",
    "\n",
    "(def num-layers 1)\n",
    "(def state-size 64)\n",
    "\n",
    "(def max-len (+ (* seq-len (count (str max-num)))\n",
    "                (- seq-len 1)))\n",
    "(println \"Max sequence length:\" max-len)"
   ]
  },
  {
   "cell_type": "markdown",
   "metadata": {},
   "source": [
    "Above we define the number of layers **num-layers** and the size of hidden states **state-size** we will be using in the LSTM. In addition, we need to specify the maximum length of the sequences since we will be converting the input sequence to a one-hot encoding."
   ]
  },
  {
   "cell_type": "code",
   "execution_count": 4,
   "metadata": {},
   "outputs": [
    {
     "name": "stdout",
     "output_type": "stream",
     "text": [
      "Number to index: {  10, 0 0, 1 1, 2 2, 3 3, 4 4, 5 5, 6 6, 7 7, 8 8, 9 9}\n",
      "Vocabulary size: 11\n"
     ]
    }
   ],
   "source": [
    "(def num->idx\n",
    "  (->> (range 10)\n",
    "       (mapv (fn [i] [(str i) i]))\n",
    "       (into {\" \" 10})\n",
    "       (mapv (fn [[k i]] [(.charAt k 0) i]))\n",
    "       (into {})))\n",
    "(def vocab-len (count num->idx))\n",
    "\n",
    "(println \"Number to index:\" num->idx)\n",
    "(println \"Vocabulary size:\" vocab-len)"
   ]
  },
  {
   "cell_type": "markdown",
   "metadata": {},
   "source": [
    "Now let's generate some data and look at the input and the output. We will use the newer `ndarray-api/sort` method to sort the integer sequence."
   ]
  },
  {
   "cell_type": "code",
   "execution_count": 5,
   "metadata": {},
   "outputs": [
    {
     "name": "stdout",
     "output_type": "stream",
     "text": [
      "Input: [54.0 58.0 70.0 83.0 59.0] \n",
      "Target: [54.0 58.0 59.0 70.0 83.0]\n",
      "shape(X): [5000 5] shape(Y): [5000 5]\n"
     ]
    }
   ],
   "source": [
    "(def X (-> (random/uniform 0 max-num [dataset-size seq-len])\n",
    "           (ndarray/as-type dtype/INT32)))\n",
    "(def Y (ndarray-api/sort {:data X}))\n",
    "(println \"Input:\" (ndarray/->vec (ndarray/at X 0))\n",
    "         \"\\nTarget:\" (ndarray/->vec (ndarray/at Y 0)))\n",
    "(println \"shape(X):\" (ndarray/shape-vec X) \n",
    "         \"shape(Y):\" (ndarray/shape-vec Y))"
   ]
  },
  {
   "cell_type": "code",
   "execution_count": 6,
   "metadata": {},
   "outputs": [
    {
     "name": "stdout",
     "output_type": "stream",
     "text": [
      "Split @ 4000\n"
     ]
    }
   ],
   "source": [
    "(def split-idx (int (* dataset-size split)))\n",
    "(println \"Split @\" split-idx)"
   ]
  },
  {
   "cell_type": "code",
   "execution_count": 7,
   "metadata": {},
   "outputs": [
    {
     "data": {
      "text/plain": [
       "#'bi-lstm-sort.core/transform-label"
      ]
     },
     "execution_count": 7,
     "metadata": {},
     "output_type": "execute_result"
    }
   ],
   "source": [
    "(defn to-num-array\n",
    "    \"Converts the input to sequence of indices from the vocabulary\"\n",
    "    [v]\n",
    "  (let [nums (mapv (comp str int) v)           ; Convert the integers to strings\n",
    "        joined (clojure.string/join \" \" nums)  ; Concatenate the strings\n",
    "        padding (apply str (repeat (- max-len (count joined)) \" \"))  ; Find the padding length up to max-len\n",
    "        padded (str joined padding)            ; Pad the string\n",
    "        indices (mapv num->idx padded)]        ; Find the vocabulary indices\n",
    "    (ndarray/array indices [max-len])))\n",
    "\n",
    "(defn transform-data\n",
    "    \"Converts the vocabulary indices to one-hot encoding for input data\"\n",
    "    [batch]\n",
    "  (let [data (-> batch\n",
    "                 mx-io/batch-data\n",
    "                 first\n",
    "                 ndarray/->nd-vec)\n",
    "        data-indices (mapv to-num-array data)]\n",
    "    (mapv #(ndarray-api/one-hot % vocab-len)\n",
    "          data-indices)))\n",
    "  \n",
    "(defn transform-label\n",
    "    \"Converts the vocabulary indices to output label\"\n",
    "    [batch]\n",
    "  (let [label (-> batch\n",
    "                  mx-io/batch-label\n",
    "                  first\n",
    "                  ndarray/->nd-vec)\n",
    "        label-indices (mapv to-num-array label)]\n",
    "    label-indices))"
   ]
  },
  {
   "cell_type": "markdown",
   "metadata": {},
   "source": [
    "## Data Iterator"
   ]
  },
  {
   "cell_type": "markdown",
   "metadata": {},
   "source": [
    "The iterator method below does a few different things:\n",
    "1. Slices the `X` and `Y` arrays to get the train or test split\n",
    "2. Creates an iterator over them and transforms the batches using `transform-data` and `transform-label` methods\n",
    "3. Flattens the transformed data and expands the first dimension\n",
    "4. Defines the data descriptors for the data, label, hidden state and LSTM state cell\n",
    "5. Finally defines the `ndarray-iter` that will feed into training"
   ]
  },
  {
   "cell_type": "code",
   "execution_count": 8,
   "metadata": {},
   "outputs": [
    {
     "data": {
      "text/plain": [
       "#'bi-lstm-sort.core/get-iterator"
      ]
     },
     "execution_count": 8,
     "metadata": {},
     "output_type": "execute_result"
    }
   ],
   "source": [
    "(defn get-iterator [begin end]\n",
    "  (let [Xt (ndarray-api/slice-axis {:data X :axis 0 :begin begin :end end})\n",
    "        Yt (ndarray-api/slice-axis {:data Y :axis 0 :begin begin :end end})\n",
    "        [num-examples seq-len] (ndarray/shape-vec Xt)\n",
    "        num-iter (mx-io/ndarray-iter [Xt] {:label [Yt] :data-batch-size batch-size})\n",
    "        init-size (* batch-size (quot (+ batch-size num-examples) batch-size))\n",
    "        batched-data (mx-io/for-batches num-iter transform-data)\n",
    "        batched-label (mx-io/for-batches num-iter transform-label)\n",
    "        exp-data (->> batched-data\n",
    "                      flatten\n",
    "                      (mapv #(ndarray-api/expand-dims % 0)))\n",
    "        exp-label (->> batched-label\n",
    "                       flatten\n",
    "                       (mapv #(ndarray-api/expand-dims % 0)))\n",
    "        data-desc (mx-io/data-desc {:name \"data\"\n",
    "                                    :shape [num-examples max-len vocab-len]\n",
    "                                    :dtype dtype/FLOAT32\n",
    "                                    :layout org.apache.clojure-mxnet.layout/NTC})\n",
    "        init-h-desc (mx-io/data-desc {:name \"LSTM_init_h\"\n",
    "                                      :shape [num-examples (* 2 num-layers) state-size]\n",
    "                                      :dtype dtype/FLOAT32\n",
    "                                      :layout org.apache.clojure-mxnet.layout/NTC})\n",
    "        init-c-desc (mx-io/data-desc {:name \"LSTM_init_c\"\n",
    "                                      :shape [num-examples (* 2 num-layers) state-size]\n",
    "                                      :dtype dtype/FLOAT32\n",
    "                                      :layout org.apache.clojure-mxnet.layout/NTC})\n",
    "        label-desc (mx-io/data-desc {:name \"label\"\n",
    "                                     :shape [num-examples max-len]\n",
    "                                     :dtype dtype/FLOAT32\n",
    "                                     :layout org.apache.clojure-mxnet.layout/NT})\n",
    "        data (ndarray-api/concat {:data exp-data\n",
    "                                  :num-args (count exp-data)\n",
    "                                  :dim 0})\n",
    "        init-h (ndarray/zeros [init-size (* 2 num-layers) state-size])\n",
    "        init-c (ndarray/zeros [init-size (* 2 num-layers) state-size])\n",
    "        label (ndarray-api/concat {:data exp-label\n",
    "                                   :num-args (count exp-label)\n",
    "                                   :dim 0})]\n",
    "    (mx-io/ndarray-iter {data-desc data\n",
    "                         init-h-desc init-h\n",
    "                         init-c-desc init-c}\n",
    "                        {:label {label-desc label}\n",
    "                         :data-batch-size batch-size})))"
   ]
  },
  {
   "cell_type": "code",
   "execution_count": 9,
   "metadata": {},
   "outputs": [
    {
     "data": {
      "text/plain": [
       "#'bi-lstm-sort.core/eval-iter"
      ]
     },
     "execution_count": 9,
     "metadata": {},
     "output_type": "execute_result"
    }
   ],
   "source": [
    "(def train-iter (get-iterator 0 split-idx))\n",
    "(def eval-iter (get-iterator (+ split-idx 1) dataset-size))"
   ]
  },
  {
   "cell_type": "code",
   "execution_count": 10,
   "metadata": {},
   "outputs": [
    {
     "name": "stdout",
     "output_type": "stream",
     "text": [
      "#object[org.apache.mxnet.NDArray 0x3b52093f [\n",
      " [\n",
      "  [0.0,0.0,0.0,0.0,0.0,1.0,0.0,0.0,0.0,0.0,0.0]\n",
      "  [0.0,0.0,0.0,0.0,0.0,0.0,0.0,0.0,1.0,0.0,0.0]\n",
      "  [0.0,0.0,0.0,0.0,0.0,0.0,1.0,0.0,0.0,0.0,0.0]\n",
      "  [0.0,0.0,0.0,0.0,0.0,1.0,0.0,0.0,0.0,0.0,0.0]\n",
      "  [0.0,0.0,0.0,0.0,0.0,0.0,0.0,1.0,0.0,0.0,0.0]\n",
      "  [0.0,0.0,0.0,1.0,0.0,0.0,0.0,0.0,0.0,0.0,0.0]\n",
      "  [0.0,0.0,0.0,0.0,0.0,0.0,0.0,0.0,1.0,0.0,0.0]\n",
      "  [0.0,0.0,0.0,0.0,0.0,0.0,0.0,0.0,0.0,1.0,0.0]\n",
      "  [0.0,0.0,0.0,0.0,0.0,0.0,0.0,0.0,0.0,1.0,0.0]\n",
      "  [0.0,0.0,0.0,0.0,0.0,1.0,0.0,0.0,0.0,0.0,0.0]\n",
      " \n",
      "  ... with length 50\n",
      " ]\n",
      " [\n",
      "  [0.0,0.0,0.0,0.0,1.0,0.0,0.0,0.0,0.0,0.0,0.0]\n",
      "  [0.0,0.0,0.0,0.0,1.0,0.0,0.0,0.0,0.0,0.0,0.0]\n",
      "  [0.0,0.0,0.0,1.0,0.0,0.0,0.0,0.0,0.0,0.0,0.0]\n",
      "  [0.0,0.0,0.0,0.0,0.0,0.0,0.0,0.0,0.0,0.0,1.0]\n",
      "  [0.0,0.0,0.0,0.0,0.0,0.0,0.0,0.0,1.0,0.0,0.0]\n",
      "  [0.0,0.0,0.0,0.0,0.0,0.0,0.0,0.0,1.0,0.0,0.0]\n",
      "  [0.0,0.0,0.0,0.0,0.0,0.0,0.0,0.0,0.0,0.0,1.0]\n",
      "  [0.0,0.0,0.0,0.0,1.0,0.0,0.0,0.0,0.0,0.0,0.0]\n",
      "  [0.0,0.0,0.0,0.0,0.0,0.0,1.0,0.0,0.0,0.0,0.0]\n",
      "  [0.0,1.0,0.0,0.0,0.0,0.0,0.0,0.0,0.0,0.0,0.0]\n",
      " \n",
      "  ... with length 50\n",
      " ]\n",
      " [\n",
      "  [0.0,0.0,0.0,0.0,0.0,0.0,0.0,0.0,0.0,0.0,1.0]\n",
      "  [0.0,0.0,0.0,0.0,0.0,0.0,0.0,0.0,0.0,0.0,1.0]\n",
      "  [0.0,0.0,0.0,0.0,0.0,0.0,0.0,0.0,0.0,0.0,1.0]\n",
      "  [0.0,0.0,0.0,0.0,0.0,0.0,0.0,0.0,0.0,1.0,0.0]\n",
      "  [0.0,0.0,0.0,0.0,0.0,0.0,0.0,0.0,0.0,0.0,1.0]\n",
      "  [0.0,0.0,0.0,0.0,0.0,0.0,0.0,0.0,0.0,0.0,1.0]\n",
      "  [0.0,0.0,0.0,0.0,0.0,0.0,1.0,0.0,0.0,0.0,0.0]\n",
      "  [0.0,0.0,0.0,0.0,0.0,0.0,0.0,0.0,0.0,0.0,1.0]\n",
      "  [0.0,0.0,0.0,0.0,0.0,0.0,0.0,0.0,0.0,0.0,1.0]\n",
      "  [0.0,0.0,0.0,0.0,0.0,0.0,0.0,0.0,0.0,0.0,1.0]\n",
      " \n",
      "  ... with length 50\n",
      " ]\n",
      " [\n",
      "  [0.0,0.0,0.0,0.0,0.0,1.0,0.0,0.0,0.0,0.0,0.0]\n",
      "  [0.0,0.0,0.0,0.0,0.0,1.0,0.0,0.0,0.0,0.0,0.0]\n",
      "  [0.0,0.0,0.0,1.0,0.0,0.0,0.0,0.0,0.0,0.0,0.0]\n",
      "  [0.0,0.0,0.0,0.0,0.0,1.0,0.0,0.0,0.0,0.0,0.0]\n",
      "  [0.0,0.0,0.0,0.0,0.0,0.0,0.0,0.0,1.0,0.0,0.0]\n",
      "  [0.0,0.0,0.0,0.0,0.0,0.0,0.0,0.0,0.0,1.0,0.0]\n",
      "  [0.0,0.0,0.0,0.0,1.0,0.0,0.0,0.0,0.0,0.0,0.0]\n",
      "  [0.0,0.0,0.0,0.0,0.0,0.0,0.0,1.0,0.0,0.0,0.0]\n",
      "  [0.0,0.0,0.0,0.0,1.0,0.0,0.0,0.0,0.0,0.0,0.0]\n",
      "  [0.0,0.0,0.0,0.0,0.0,0.0,0.0,1.0,0.0,0.0,0.0]\n",
      " \n",
      "  ... with length 50\n",
      " ]\n",
      " [\n",
      "  [0.0,0.0,0.0,0.0,0.0,0.0,0.0,0.0,1.0,0.0,0.0]\n",
      "  [0.0,0.0,0.0,1.0,0.0,0.0,0.0,0.0,0.0,0.0,0.0]\n",
      "  [0.0,0.0,0.0,0.0,0.0,0.0,0.0,0.0,1.0,0.0,0.0]\n",
      "  [0.0,0.0,0.0,0.0,0.0,0.0,0.0,0.0,0.0,0.0,1.0]\n",
      "  [1.0,0.0,0.0,0.0,0.0,0.0,0.0,0.0,0.0,0.0,0.0]\n",
      "  [0.0,1.0,0.0,0.0,0.0,0.0,0.0,0.0,0.0,0.0,0.0]\n",
      "  [0.0,0.0,0.0,0.0,0.0,0.0,0.0,0.0,0.0,0.0,1.0]\n",
      "  [0.0,0.0,0.0,0.0,0.0,0.0,0.0,1.0,0.0,0.0,0.0]\n",
      "  [0.0,0.0,0.0,0.0,0.0,0.0,1.0,0.0,0.0,0.0,0.0]\n",
      "  [0.0,0.0,0.0,0.0,0.0,0.0,0.0,1.0,0.0,0.0,0.0]\n",
      " \n",
      "  ... with length 50\n",
      " ]\n",
      " [\n",
      "  [0.0,0.0,0.0,0.0,0.0,0.0,0.0,0.0,0.0,0.0,1.0]\n",
      "  [0.0,0.0,0.0,0.0,0.0,0.0,0.0,0.0,0.0,0.0,1.0]\n",
      "  [0.0,0.0,0.0,0.0,0.0,0.0,0.0,0.0,0.0,0.0,1.0]\n",
      "  [0.0,0.0,1.0,0.0,0.0,0.0,0.0,0.0,0.0,0.0,0.0]\n",
      "  [0.0,0.0,0.0,0.0,0.0,0.0,0.0,0.0,0.0,0.0,1.0]\n",
      "  [0.0,0.0,0.0,0.0,0.0,0.0,0.0,0.0,0.0,0.0,1.0]\n",
      "  [0.0,0.0,1.0,0.0,0.0,0.0,0.0,0.0,0.0,0.0,0.0]\n",
      "  [0.0,0.0,0.0,0.0,0.0,0.0,0.0,0.0,0.0,0.0,1.0]\n",
      "  [0.0,0.0,0.0,0.0,0.0,0.0,0.0,0.0,0.0,0.0,1.0]\n",
      "  [0.0,0.0,0.0,0.0,0.0,0.0,0.0,0.0,0.0,0.0,1.0]\n",
      " \n",
      "  ... with length 50\n",
      " ]\n",
      " [\n",
      "  [0.0,0.0,0.0,0.0,0.0,0.0,0.0,1.0,0.0,0.0,0.0]\n",
      "  [0.0,0.0,0.0,0.0,0.0,0.0,0.0,0.0,1.0,0.0,0.0]\n",
      "  [0.0,0.0,0.0,0.0,1.0,0.0,0.0,0.0,0.0,0.0,0.0]\n",
      "  [0.0,0.0,0.0,0.0,0.0,0.0,1.0,0.0,0.0,0.0,0.0]\n",
      "  [0.0,0.0,0.0,0.0,0.0,1.0,0.0,0.0,0.0,0.0,0.0]\n",
      "  [0.0,0.0,0.0,0.0,0.0,0.0,0.0,0.0,1.0,0.0,0.0]\n",
      "  [0.0,0.0,0.0,0.0,0.0,0.0,0.0,0.0,0.0,0.0,1.0]\n",
      "  [0.0,1.0,0.0,0.0,0.0,0.0,0.0,0.0,0.0,0.0,0.0]\n",
      "  [0.0,0.0,0.0,0.0,0.0,0.0,0.0,1.0,0.0,0.0,0.0]\n",
      "  [0.0,0.0,0.0,0.0,0.0,0.0,1.0,0.0,0.0,0.0,0.0]\n",
      " \n",
      "  ... with length 50\n",
      " ]\n",
      " [\n",
      "  [1.0,0.0,0.0,0.0,0.0,0.0,0.0,0.0,0.0,0.0,0.0]\n",
      "  [0.0,0.0,0.0,1.0,0.0,0.0,0.0,0.0,0.0,0.0,0.0]\n",
      "  [0.0,0.0,0.0,1.0,0.0,0.0,0.0,0.0,0.0,0.0,0.0]\n",
      "  [0.0,0.0,0.0,0.0,0.0,0.0,0.0,0.0,0.0,0.0,1.0]\n",
      "  [0.0,0.0,1.0,0.0,0.0,0.0,0.0,0.0,0.0,0.0,0.0]\n",
      "  [0.0,0.0,1.0,0.0,0.0,0.0,0.0,0.0,0.0,0.0,0.0]\n",
      "  [0.0,0.0,0.0,1.0,0.0,0.0,0.0,0.0,0.0,0.0,0.0]\n",
      "  [0.0,0.0,0.0,1.0,0.0,0.0,0.0,0.0,0.0,0.0,0.0]\n",
      "  [0.0,0.0,0.0,0.0,0.0,0.0,0.0,0.0,0.0,1.0,0.0]\n",
      "  [0.0,0.0,0.0,0.0,0.0,0.0,0.0,1.0,0.0,0.0,0.0]\n",
      " \n",
      "  ... with length 50\n",
      " ]\n",
      " [\n",
      "  [0.0,0.0,0.0,0.0,0.0,0.0,0.0,0.0,0.0,0.0,1.0]\n",
      "  [0.0,0.0,0.0,0.0,0.0,0.0,0.0,0.0,0.0,0.0,1.0]\n",
      "  [0.0,0.0,0.0,0.0,0.0,0.0,0.0,0.0,0.0,0.0,1.0]\n",
      "  [0.0,0.0,0.0,1.0,0.0,0.0,0.0,0.0,0.0,0.0,0.0]\n",
      "  [0.0,0.0,0.0,0.0,0.0,0.0,0.0,0.0,0.0,0.0,1.0]\n",
      "  [0.0,0.0,0.0,0.0,0.0,0.0,0.0,0.0,0.0,0.0,1.0]\n",
      "  [0.0,0.0,0.0,0.0,0.0,0.0,1.0,0.0,0.0,0.0,0.0]\n",
      "  [0.0,0.0,0.0,0.0,0.0,0.0,0.0,0.0,0.0,0.0,1.0]\n",
      "  [0.0,0.0,0.0,0.0,0.0,0.0,0.0,0.0,0.0,0.0,1.0]\n",
      "  [0.0,0.0,0.0,0.0,0.0,0.0,0.0,0.0,0.0,0.0,1.0]\n",
      " \n",
      "  ... with length 50\n",
      " ]\n",
      " [\n",
      "  [0.0,0.0,0.0,0.0,0.0,0.0,0.0,0.0,1.0,0.0,0.0]\n",
      "  [0.0,0.0,0.0,0.0,1.0,0.0,0.0,0.0,0.0,0.0,0.0]\n",
      "  [0.0,0.0,1.0,0.0,0.0,0.0,0.0,0.0,0.0,0.0,0.0]\n",
      "  [0.0,0.0,0.0,0.0,0.0,0.0,0.0,1.0,0.0,0.0,0.0]\n",
      "  [0.0,0.0,0.0,0.0,1.0,0.0,0.0,0.0,0.0,0.0,0.0]\n",
      "  [0.0,0.0,0.0,0.0,0.0,0.0,0.0,1.0,0.0,0.0,0.0]\n",
      "  [0.0,0.0,0.0,0.0,0.0,0.0,0.0,0.0,0.0,0.0,1.0]\n",
      "  [0.0,0.0,0.0,0.0,0.0,0.0,0.0,0.0,1.0,0.0,0.0]\n",
      "  [0.0,0.0,0.0,0.0,0.0,0.0,0.0,1.0,0.0,0.0,0.0]\n",
      "  [0.0,1.0,0.0,0.0,0.0,0.0,0.0,0.0,0.0,0.0,0.0]\n",
      " \n",
      "  ... with length 50\n",
      " ]\n",
      "\n",
      " ... with length 14\n",
      "]\n",
      "<NDArray (14,50,11) cpu(0) float32>]\n",
      "#object[org.apache.mxnet.NDArray 0xc2d04f7 [\n",
      " [\n",
      "  [0.0,0.0,0.0,0.0,0.0,1.0,0.0,0.0,0.0,0.0,0.0]\n",
      "  [0.0,0.0,0.0,0.0,1.0,0.0,0.0,0.0,0.0,0.0,0.0]\n",
      "  [0.0,0.0,0.0,0.0,0.0,0.0,0.0,0.0,0.0,0.0,1.0]\n",
      "  [0.0,0.0,0.0,0.0,0.0,1.0,0.0,0.0,0.0,0.0,0.0]\n",
      "  [0.0,0.0,0.0,0.0,0.0,0.0,0.0,0.0,1.0,0.0,0.0]\n",
      "  [0.0,0.0,0.0,0.0,0.0,0.0,0.0,0.0,0.0,0.0,1.0]\n",
      "  [0.0,0.0,0.0,0.0,0.0,0.0,0.0,1.0,0.0,0.0,0.0]\n",
      "  [1.0,0.0,0.0,0.0,0.0,0.0,0.0,0.0,0.0,0.0,0.0]\n",
      "  [0.0,0.0,0.0,0.0,0.0,0.0,0.0,0.0,0.0,0.0,1.0]\n",
      "  [0.0,0.0,0.0,0.0,0.0,0.0,0.0,0.0,1.0,0.0,0.0]\n",
      " \n",
      "  ... with length 14\n",
      " ]\n",
      " [\n",
      "  [0.0,0.0,0.0,0.0,0.0,0.0,0.0,0.0,1.0,0.0,0.0]\n",
      "  [0.0,0.0,0.0,0.0,1.0,0.0,0.0,0.0,0.0,0.0,0.0]\n",
      "  [0.0,0.0,0.0,0.0,0.0,0.0,0.0,0.0,0.0,0.0,1.0]\n",
      "  [0.0,0.0,0.0,0.0,0.0,1.0,0.0,0.0,0.0,0.0,0.0]\n",
      "  [0.0,0.0,0.0,1.0,0.0,0.0,0.0,0.0,0.0,0.0,0.0]\n",
      "  [0.0,0.0,0.0,0.0,0.0,0.0,0.0,0.0,0.0,0.0,1.0]\n",
      "  [0.0,0.0,0.0,0.0,0.0,0.0,0.0,0.0,1.0,0.0,0.0]\n",
      "  [0.0,0.0,0.0,1.0,0.0,0.0,0.0,0.0,0.0,0.0,0.0]\n",
      "  [0.0,0.0,0.0,0.0,0.0,0.0,0.0,0.0,0.0,0.0,1.0]\n",
      "  [0.0,0.0,0.0,0.0,1.0,0.0,0.0,0.0,0.0,0.0,0.0]\n",
      " \n",
      "  ... with length 14\n",
      " ]\n",
      " [\n",
      "  [0.0,0.0,0.0,0.0,0.0,0.0,1.0,0.0,0.0,0.0,0.0]\n",
      "  [0.0,0.0,0.0,1.0,0.0,0.0,0.0,0.0,0.0,0.0,0.0]\n",
      "  [0.0,0.0,0.0,0.0,0.0,0.0,0.0,0.0,0.0,0.0,1.0]\n",
      "  [0.0,0.0,0.0,1.0,0.0,0.0,0.0,0.0,0.0,0.0,0.0]\n",
      "  [0.0,0.0,0.0,0.0,0.0,0.0,0.0,0.0,1.0,0.0,0.0]\n",
      "  [0.0,0.0,0.0,0.0,0.0,0.0,0.0,0.0,0.0,0.0,1.0]\n",
      "  [0.0,0.0,0.0,0.0,1.0,0.0,0.0,0.0,0.0,0.0,0.0]\n",
      "  [0.0,0.0,0.0,1.0,0.0,0.0,0.0,0.0,0.0,0.0,0.0]\n",
      "  [0.0,0.0,0.0,0.0,0.0,0.0,0.0,0.0,0.0,0.0,1.0]\n",
      "  [0.0,0.0,1.0,0.0,0.0,0.0,0.0,0.0,0.0,0.0,0.0]\n",
      " \n",
      "  ... with length 14\n",
      " ]\n",
      " [\n",
      "  [0.0,0.0,0.0,0.0,0.0,1.0,0.0,0.0,0.0,0.0,0.0]\n",
      "  [0.0,0.0,0.0,0.0,0.0,0.0,0.0,0.0,0.0,0.0,1.0]\n",
      "  [0.0,0.0,0.0,0.0,0.0,0.0,0.0,0.0,0.0,1.0,0.0]\n",
      "  [0.0,0.0,0.0,0.0,0.0,1.0,0.0,0.0,0.0,0.0,0.0]\n",
      "  [0.0,0.0,0.0,0.0,0.0,0.0,0.0,0.0,0.0,0.0,1.0]\n",
      "  [0.0,0.0,1.0,0.0,0.0,0.0,0.0,0.0,0.0,0.0,0.0]\n",
      "  [0.0,0.0,0.0,0.0,0.0,0.0,1.0,0.0,0.0,0.0,0.0]\n",
      "  [0.0,0.0,0.0,0.0,0.0,0.0,0.0,0.0,0.0,0.0,1.0]\n",
      "  [0.0,0.0,0.0,1.0,0.0,0.0,0.0,0.0,0.0,0.0,0.0]\n",
      "  [0.0,0.0,0.0,0.0,0.0,0.0,0.0,1.0,0.0,0.0,0.0]\n",
      " \n",
      "  ... with length 14\n",
      " ]\n",
      " [\n",
      "  [0.0,0.0,0.0,0.0,0.0,0.0,0.0,1.0,0.0,0.0,0.0]\n",
      "  [0.0,0.0,0.0,0.0,0.0,0.0,0.0,0.0,1.0,0.0,0.0]\n",
      "  [0.0,0.0,0.0,0.0,0.0,0.0,0.0,0.0,0.0,0.0,1.0]\n",
      "  [0.0,0.0,0.0,0.0,0.0,0.0,0.0,0.0,1.0,0.0,0.0]\n",
      "  [1.0,0.0,0.0,0.0,0.0,0.0,0.0,0.0,0.0,0.0,0.0]\n",
      "  [0.0,0.0,0.0,0.0,0.0,0.0,0.0,0.0,0.0,0.0,1.0]\n",
      "  [0.0,0.0,0.0,0.0,0.0,1.0,0.0,0.0,0.0,0.0,0.0]\n",
      "  [0.0,0.0,1.0,0.0,0.0,0.0,0.0,0.0,0.0,0.0,0.0]\n",
      "  [0.0,0.0,0.0,0.0,0.0,0.0,0.0,0.0,0.0,0.0,1.0]\n",
      "  [0.0,0.0,0.0,0.0,1.0,0.0,0.0,0.0,0.0,0.0,0.0]\n",
      " \n",
      "  ... with length 14\n",
      " ]\n",
      " [\n",
      "  [0.0,0.0,0.0,1.0,0.0,0.0,0.0,0.0,0.0,0.0,0.0]\n",
      "  [0.0,0.0,0.0,0.0,0.0,0.0,0.0,0.0,1.0,0.0,0.0]\n",
      "  [0.0,0.0,0.0,0.0,0.0,0.0,0.0,0.0,0.0,0.0,1.0]\n",
      "  [0.0,0.0,0.0,0.0,0.0,0.0,0.0,0.0,0.0,1.0,0.0]\n",
      "  [0.0,1.0,0.0,0.0,0.0,0.0,0.0,0.0,0.0,0.0,0.0]\n",
      "  [0.0,0.0,0.0,0.0,0.0,0.0,0.0,0.0,0.0,0.0,1.0]\n",
      "  [0.0,0.0,0.0,0.0,0.0,0.0,0.0,0.0,1.0,0.0,0.0]\n",
      "  [0.0,0.0,1.0,0.0,0.0,0.0,0.0,0.0,0.0,0.0,0.0]\n",
      "  [0.0,0.0,0.0,0.0,0.0,0.0,0.0,0.0,0.0,0.0,1.0]\n",
      "  [0.0,0.0,0.0,0.0,0.0,0.0,0.0,1.0,0.0,0.0,0.0]\n",
      " \n",
      "  ... with length 14\n",
      " ]\n",
      " [\n",
      "  [0.0,0.0,0.0,0.0,0.0,0.0,0.0,0.0,1.0,0.0,0.0]\n",
      "  [0.0,0.0,0.0,0.0,0.0,0.0,0.0,0.0,0.0,0.0,1.0]\n",
      "  [0.0,0.0,0.0,0.0,0.0,0.0,1.0,0.0,0.0,0.0,0.0]\n",
      "  [0.0,0.0,0.0,0.0,1.0,0.0,0.0,0.0,0.0,0.0,0.0]\n",
      "  [0.0,0.0,0.0,0.0,0.0,0.0,0.0,0.0,0.0,0.0,1.0]\n",
      "  [0.0,0.0,1.0,0.0,0.0,0.0,0.0,0.0,0.0,0.0,0.0]\n",
      "  [0.0,0.0,0.0,0.0,0.0,0.0,0.0,0.0,0.0,0.0,1.0]\n",
      "  [0.0,0.0,0.0,1.0,0.0,0.0,0.0,0.0,0.0,0.0,0.0]\n",
      "  [0.0,0.0,0.0,0.0,0.0,0.0,1.0,0.0,0.0,0.0,0.0]\n",
      "  [0.0,0.0,0.0,0.0,0.0,0.0,0.0,0.0,0.0,0.0,1.0]\n",
      " \n",
      "  ... with length 14\n",
      " ]\n",
      " [\n",
      "  [0.0,0.0,0.0,0.0,0.0,0.0,0.0,0.0,0.0,1.0,0.0]\n",
      "  [0.0,0.0,0.0,0.0,1.0,0.0,0.0,0.0,0.0,0.0,0.0]\n",
      "  [0.0,0.0,0.0,0.0,0.0,0.0,0.0,0.0,0.0,0.0,1.0]\n",
      "  [0.0,0.0,0.0,0.0,0.0,0.0,0.0,1.0,0.0,0.0,0.0]\n",
      "  [0.0,0.0,0.0,0.0,0.0,0.0,0.0,1.0,0.0,0.0,0.0]\n",
      "  [0.0,0.0,0.0,0.0,0.0,0.0,0.0,0.0,0.0,0.0,1.0]\n",
      "  [0.0,1.0,0.0,0.0,0.0,0.0,0.0,0.0,0.0,0.0,0.0]\n",
      "  [0.0,0.0,0.0,1.0,0.0,0.0,0.0,0.0,0.0,0.0,0.0]\n",
      "  [0.0,0.0,0.0,0.0,0.0,0.0,0.0,0.0,0.0,0.0,1.0]\n",
      "  [0.0,0.0,0.0,0.0,0.0,0.0,0.0,0.0,1.0,0.0,0.0]\n",
      " \n",
      "  ... with length 14\n",
      " ]\n",
      " [\n",
      "  [0.0,0.0,0.0,0.0,0.0,0.0,0.0,0.0,0.0,1.0,0.0]\n",
      "  [0.0,0.0,0.0,0.0,0.0,0.0,1.0,0.0,0.0,0.0,0.0]\n",
      "  [0.0,0.0,0.0,0.0,0.0,0.0,0.0,0.0,0.0,0.0,1.0]\n",
      "  [0.0,0.0,0.0,0.0,1.0,0.0,0.0,0.0,0.0,0.0,0.0]\n",
      "  [0.0,0.0,0.0,0.0,0.0,0.0,1.0,0.0,0.0,0.0,0.0]\n",
      "  [0.0,0.0,0.0,0.0,0.0,0.0,0.0,0.0,0.0,0.0,1.0]\n",
      "  [0.0,0.0,0.0,0.0,0.0,0.0,0.0,1.0,0.0,0.0,0.0]\n",
      "  [0.0,0.0,0.0,0.0,0.0,0.0,0.0,0.0,0.0,1.0,0.0]\n",
      "  [0.0,0.0,0.0,0.0,0.0,0.0,0.0,0.0,0.0,0.0,1.0]\n",
      "  [0.0,0.0,0.0,0.0,0.0,0.0,0.0,1.0,0.0,0.0,0.0]\n",
      " \n",
      "  ... with length 14\n",
      " ]\n",
      " [\n",
      "  [0.0,0.0,0.0,0.0,0.0,1.0,0.0,0.0,0.0,0.0,0.0]\n",
      "  [0.0,1.0,0.0,0.0,0.0,0.0,0.0,0.0,0.0,0.0,0.0]\n",
      "  [0.0,0.0,0.0,0.0,0.0,0.0,0.0,0.0,0.0,0.0,1.0]\n",
      "  [0.0,0.0,0.0,0.0,0.0,0.0,0.0,1.0,0.0,0.0,0.0]\n",
      "  [0.0,0.0,0.0,0.0,0.0,0.0,0.0,1.0,0.0,0.0,0.0]\n",
      "  [0.0,0.0,0.0,0.0,0.0,0.0,0.0,0.0,0.0,0.0,1.0]\n",
      "  [0.0,0.0,0.0,0.0,0.0,0.0,1.0,0.0,0.0,0.0,0.0]\n",
      "  [0.0,0.0,0.0,0.0,0.0,0.0,0.0,1.0,0.0,0.0,0.0]\n",
      "  [0.0,0.0,0.0,0.0,0.0,0.0,0.0,0.0,0.0,0.0,1.0]\n",
      "  [0.0,1.0,0.0,0.0,0.0,0.0,0.0,0.0,0.0,0.0,0.0]\n",
      " \n",
      "  ... with length 14\n",
      " ]\n",
      "\n",
      " ... with length 50\n",
      "]\n"
     ]
    },
    {
     "name": "stdout",
     "output_type": "stream",
     "text": [
      "<NDArray (50,14,11) cpu(0) float32>]\n",
      "#object[org.apache.mxnet.NDArray 0x3040fe20 [\n",
      " [5.0,4.0,10.0,5.0,8.0,10.0,5.0,9.0,10.0,7.0,0.0,10.0,8.0,3.0]\n",
      " [4.0,1.0,10.0,5.0,3.0,10.0,6.0,1.0,10.0,8.0,3.0,10.0,8.0,4.0]\n",
      " [2.0,9.0,10.0,3.0,8.0,10.0,4.0,3.0,10.0,6.0,3.0,10.0,8.0,8.0]\n",
      " [5.0,10.0,2.0,6.0,10.0,3.0,7.0,10.0,4.0,7.0,10.0,9.0,5.0,10.0]\n",
      " [4.0,7.0,10.0,5.0,2.0,10.0,5.0,6.0,10.0,7.0,8.0,10.0,8.0,0.0]\n",
      " [7.0,10.0,3.0,3.0,10.0,3.0,8.0,10.0,8.0,2.0,10.0,9.0,1.0,10.0]\n",
      " [2.0,10.0,8.0,10.0,3.0,6.0,10.0,6.0,4.0,10.0,8.0,2.0,10.0,10.0]\n",
      " [1.0,3.0,10.0,7.0,7.0,10.0,8.0,6.0,10.0,8.0,6.0,10.0,9.0,4.0]\n",
      " [4.0,5.0,10.0,4.0,6.0,10.0,7.0,9.0,10.0,7.0,9.0,10.0,9.0,6.0]\n",
      " [1.0,1.0,10.0,5.0,1.0,10.0,6.0,7.0,10.0,7.0,1.0,10.0,7.0,7.0]\n",
      "\n",
      " ... with length 50\n",
      "]\n",
      "<NDArray (50,14) cpu(0) float32>]\n"
     ]
    }
   ],
   "source": [
    "(def batch (mx-io/next train-iter))\n",
    "(def x (mx-io/batch-data batch))\n",
    "(def y (mx-io/batch-label batch))\n",
    "(println (ndarray-api/swap-axis {:data (first x) :dim1 0 :dim2 1}))\n",
    "(println (first x))\n",
    "(println (first y))"
   ]
  },
  {
   "cell_type": "markdown",
   "metadata": {},
   "source": [
    "The RNN supported by MXNet expects data in a time-major format instead of a batch-major one. This means that the first dimension is time-steps followed by batch-size and then input-size."
   ]
  },
  {
   "cell_type": "code",
   "execution_count": 11,
   "metadata": {},
   "outputs": [
    {
     "data": {
      "text/plain": [
       "#'bi-lstm-sort.core/get-label-outputs"
      ]
     },
     "execution_count": 11,
     "metadata": {},
     "output_type": "execute_result"
    }
   ],
   "source": [
    "(defn get-lstm-outputs []\n",
    "    (let [data (sym/variable \"data\")\n",
    "          ;; rnn inputs are time-major (time length, batch size, dimensions)\n",
    "          rnn-h-init (sym-api/swap-axis {:name \"init_h_tm\"\n",
    "                                         :data (sym/variable \"LSTM_init_h\")\n",
    "                                         :dim1 0 :dim2 1})\n",
    "          rnn-c-init (sym-api/swap-axis {:name \"init_c_tm\"\n",
    "                                         :data (sym/variable \"LSTM_init_c\")\n",
    "                                         :dim1 0 :dim2 1})\n",
    "          rnn-params (sym/variable \"LSTM_weight\")\n",
    "          data-tm (sym-api/swap-axis {:name \"data_tm\" :data data\n",
    "                                      :dim1 0 :dim2 1})\n",
    "          rnn-outputs (sym-api/rnn {:name \"LSTM\"\n",
    "                                    :data data-tm\n",
    "                                    :parameters rnn-params\n",
    "                                    :num-layers num-layers\n",
    "                                    :mode \"lstm\"\n",
    "                                    :bidirectional true\n",
    "                                    :state rnn-h-init\n",
    "                                    :state-cell rnn-c-init\n",
    "                                    :state-size state-size\n",
    "                                    :state-outputs true})\n",
    "          rnn-states (sym/get rnn-outputs 0)\n",
    "          rnn-preds (sym-api/fully-connected {:name \"predictions\"\n",
    "                                              :data rnn-states\n",
    "                                              :num-hidden vocab-len\n",
    "                                              :flatten false})]\n",
    "      rnn-preds))\n",
    "\n",
    "(defn get-label-outputs []\n",
    "    (let [label (sym/variable \"label\")\n",
    "          label-tm (sym-api/swap-axis {:name \"label_tm\" :data label\n",
    "                                       :dim1 0 :dim2 1})]\n",
    "        label-tm))"
   ]
  },
  {
   "cell_type": "code",
   "execution_count": 12,
   "metadata": {},
   "outputs": [
    {
     "data": {
      "text/plain": [
       "#'bi-lstm-sort.core/softmax-outputs"
      ]
     },
     "execution_count": 12,
     "metadata": {},
     "output_type": "execute_result"
    }
   ],
   "source": [
    "(defn softmax-outputs [rnn-preds labels]\n",
    "    (sym-api/softmax-output {:name \"softmax\"\n",
    "                             :data rnn-preds\n",
    "                             :label labels\n",
    "                             :preserve-shape true}))"
   ]
  },
  {
   "cell_type": "markdown",
   "metadata": {},
   "source": [
    "We can visualize the outputs of LSTM and label networks:"
   ]
  },
  {
   "cell_type": "code",
   "execution_count": 13,
   "metadata": {},
   "outputs": [
    {
     "data": {
      "text/plain": [
       "(([5 19 11] [39424] [5 2 64] [5 2 64] [11 128] [11]) ([19 5 11]) ())"
      ]
     },
     "execution_count": 13,
     "metadata": {},
     "output_type": "execute_result"
    }
   ],
   "source": [
    "(-> (get-lstm-outputs)\n",
    "    (sym/infer-shape {\"data\" [5 19 11]\n",
    "                      \"LSTM_init_h\" [5 2 64]\n",
    "                      \"LSTM_init_c\" [5 2 64]}))"
   ]
  },
  {
   "cell_type": "code",
   "execution_count": 14,
   "metadata": {},
   "outputs": [
    {
     "data": {
      "text/plain": [
       "(([5 19]) ([19 5]) ())"
      ]
     },
     "execution_count": 14,
     "metadata": {},
     "output_type": "execute_result"
    }
   ],
   "source": [
    "(-> (get-label-outputs)\n",
    "    (sym/infer-shape {\"label\" [5 19]}))"
   ]
  },
  {
   "cell_type": "code",
   "execution_count": 15,
   "metadata": {},
   "outputs": [
    {
     "data": {
      "text/plain": [
       "(([5 19 11] [39424] [5 2 64] [5 2 64] [11 128] [11] [5 19]) ([19 5 11]) ())"
      ]
     },
     "execution_count": 15,
     "metadata": {},
     "output_type": "execute_result"
    }
   ],
   "source": [
    "(let [rnn-preds (get-lstm-outputs)\n",
    "      labels (get-label-outputs)\n",
    "      softmax-output (softmax-outputs rnn-preds labels)]\n",
    "    (sym/infer-shape softmax-output {\"data\" [5 19 11]\n",
    "                                     \"label\" [5 19]\n",
    "                                     \"LSTM_init_h\" [5 2 64]\n",
    "                                     \"LSTM_init_c\" [5 2 64]}))"
   ]
  },
  {
   "cell_type": "markdown",
   "metadata": {},
   "source": [
    "## Training and Evaluation"
   ]
  },
  {
   "cell_type": "markdown",
   "metadata": {},
   "source": [
    "We can now define the custom accuracy method to evaluate the output of the label sequence."
   ]
  },
  {
   "cell_type": "code",
   "execution_count": 16,
   "metadata": {},
   "outputs": [
    {
     "data": {
      "text/plain": [
       "#'bi-lstm-sort.core/accuracy"
      ]
     },
     "execution_count": 16,
     "metadata": {},
     "output_type": "execute_result"
    }
   ],
   "source": [
    "(defn get-best-predictions [pred-tm]\n",
    "    (as-> pred-tm data\n",
    "          (ndarray-api/swap-axis {:data data :dim1 1 :dim2 0})\n",
    "          (ndarray-api/argmax {:data data :axis -1})))\n",
    "\n",
    "(defn accuracy [label pred-tm]\n",
    "    (let [best-pred (get-best-predictions pred-tm)\n",
    "          matches (ndarray/equal label best-pred)\n",
    "          num-matches (-> matches ndarray/sum ndarray/->vec first)\n",
    "          size (-> matches ndarray/size)]\n",
    "        (float (/ num-matches size))))"
   ]
  },
  {
   "cell_type": "markdown",
   "metadata": {},
   "source": [
    "### Note that the evaluation metrics get logged to the console"
   ]
  },
  {
   "cell_type": "code",
   "execution_count": 19,
   "metadata": {},
   "outputs": [
    {
     "data": {
      "text/plain": [
       "#'bi-lstm-sort.core/model"
      ]
     },
     "execution_count": 19,
     "metadata": {},
     "output_type": "execute_result"
    }
   ],
   "source": [
    "(def model\n",
    "    (let [rnn-preds (get-lstm-outputs)\n",
    "          labels (get-label-outputs)\n",
    "          softmax-output (softmax-outputs rnn-preds labels)\n",
    "          model (m/module softmax-output {:data-names [\"data\" \"LSTM_init_h\" \"LSTM_init_c\"]\n",
    "                                          :label-names [\"label\"]})\n",
    "          schedule (lr-scheduler/factor-scheduler (* 1 dataset-size) 0.75)]\n",
    "        (m/fit model {:train-data train-iter\n",
    "                      :eval-data eval-iter\n",
    "                      :num-epoch 200\n",
    "                      :fit-params (m/fit-params {:optimizer (optimizer/adam {:learning-rate 0.02\n",
    "                                                                             ;:lr-scheduler schedule\n",
    "                                                                             })\n",
    "                                                 :batch-end-callback (callback/speedometer batch-size 10)\n",
    "                                                 :initializer (initializer/xavier {:factor-type \"in\" :magnitude 2.34})\n",
    "                                                 :eval-metric (org.apache.clojure-mxnet.eval-metric/custom-metric\n",
    "                                                                  #(accuracy %1 %2)\n",
    "                                                                  \"accuracy\")})})))"
   ]
  },
  {
   "cell_type": "markdown",
   "metadata": {},
   "source": [
    "## Testing"
   ]
  },
  {
   "cell_type": "markdown",
   "metadata": {},
   "source": [
    "Let's pick a random example from the test data."
   ]
  },
  {
   "cell_type": "code",
   "execution_count": 23,
   "metadata": {},
   "outputs": [
    {
     "name": "stdout",
     "output_type": "stream",
     "text": [
      "X: #object[org.apache.mxnet.NDArray 0x27a19e2e [22.0,7.0,82.0,3.0,14.0]\n",
      "<NDArray (5) cpu(0) int32>] \n",
      "Y: #object[org.apache.mxnet.NDArray 0x55bbe103 [3.0,7.0,14.0,22.0,82.0]\n",
      "<NDArray (5) cpu(0) int32>]\n"
     ]
    }
   ],
   "source": [
    "(def offset (rand-int (- dataset-size split-idx)))\n",
    "(def x-orig (ndarray/at X (+ split-idx offset)))\n",
    "(def y-orig (ndarray/at Y (+ split-idx offset)))\n",
    "\n",
    "(println \"X:\" x-orig \"\\nY:\" y-orig)"
   ]
  },
  {
   "cell_type": "code",
   "execution_count": 22,
   "metadata": {},
   "outputs": [
    {
     "data": {
      "text/plain": [
       "#object[org.apache.mxnet.NDArray 0x490e5f63 \"[\\n [0.0,0.0,0.0,0.0,0.0,0.0,0.0,0.0,0.0,1.0,0.0]\\n [0.0,0.0,1.0,0.0,0.0,0.0,0.0,0.0,0.0,0.0,0.0]\\n [0.0,0.0,0.0,0.0,0.0,0.0,0.0,0.0,0.0,0.0,1.0]\\n [0.0,1.0,0.0,0.0,0.0,0.0,0.0,0.0,0.0,0.0,0.0]\\n [0.0,0.0,0.0,0.0,0.0,0.0,0.0,0.0,0.0,0.0,1.0]\\n [0.0,0.0,0.0,0.0,1.0,0.0,0.0,0.0,0.0,0.0,0.0]\\n [0.0,0.0,0.0,0.0,0.0,0.0,0.0,1.0,0.0,0.0,0.0]\\n [0.0,0.0,0.0,0.0,0.0,0.0,0.0,0.0,0.0,0.0,1.0]\\n [0.0,0.0,0.0,0.0,0.0,0.0,0.0,1.0,0.0,0.0,0.0]\\n [0.0,0.0,0.0,0.0,1.0,0.0,0.0,0.0,0.0,0.0,0.0]\\n\\n ... with length 14\\n]\\n<NDArray (14,11) cpu(0) float32>\"]"
      ]
     },
     "execution_count": 22,
     "metadata": {},
     "output_type": "execute_result"
    }
   ],
   "source": [
    "(def x (-> x-orig\n",
    "           ndarray/->vec\n",
    "           to-num-array\n",
    "           (ndarray-api/one-hot vocab-len)))\n",
    "(def y (-> y-orig\n",
    "           ndarray/->vec\n",
    "           to-num-array))\n"
   ]
  },
  {
   "cell_type": "code",
   "execution_count": null,
   "metadata": {},
   "outputs": [],
   "source": []
  }
 ],
 "metadata": {
  "kernelspec": {
   "display_name": "Lein-Clojure",
   "language": "clojure",
   "name": "lein-clojure"
  },
  "language_info": {
   "file_extension": ".clj",
   "mimetype": "text/x-clojure",
   "name": "clojure",
   "version": "1.10.0"
  }
 },
 "nbformat": 4,
 "nbformat_minor": 2
}
