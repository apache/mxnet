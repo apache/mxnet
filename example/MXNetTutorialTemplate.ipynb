{
 "cells": [
  {
   "cell_type": "markdown",
   "source": [
    "# Licensed to the Apache Software Foundation (ASF) under one\n",
    "# or more contributor license agreements.  See the NOTICE file\n",
    "# distributed with this work for additional information\n",
    "# regarding copyright ownership.  The ASF licenses this file\n",
    "# to you under the Apache License, Version 2.0 (the\n",
    "# \"License\"); you may not use this file except in compliance\n",
    "# with the License.  You may obtain a copy of the License at\n",
    "#\n",
    "#   http://www.apache.org/licenses/LICENSE-2.0\n",
    "#\n",
    "# Unless required by applicable law or agreed to in writing,\n",
    "# software distributed under the License is distributed on an\n",
    "# \"AS IS\" BASIS, WITHOUT WARRANTIES OR CONDITIONS OF ANY\n",
    "# KIND, either express or implied.  See the License for the\n",
    "# specific language governing permissions and limitations\n",
    "# under the License."
   ],
   "metadata": {}
  },
  {
   "cell_type": "markdown",
   "source": [
    "# Tutorial Title"
   ],
   "metadata": {}
  },
  {
   "cell_type": "markdown",
   "source": [
    "A brief introduction to the tutorial that describes:\n",
    "\n",
    "- The problem that the tutorial addresses\n",
    "- Who the intended audience is\n",
    "- The expected experience level of that audience with a concept or tool \n",
    "- Which environment/language it runs in \n",
    "\n",
    "If there is another similar tutorial that's more appropriate for another audience, direct the reader there with a linked reference."
   ],
   "metadata": {}
  },
  {
   "cell_type": "markdown",
   "source": [
    "## How to Use This Tutorial"
   ],
   "metadata": {}
  },
  {
   "cell_type": "markdown",
   "source": [
    "A brief explanation of how the reader can use the tutorial. Can the reader copy each code snippet into a Python or other environment? Or can the reader run `<filename>` before or after reading through the explanations to understand how the code works?"
   ],
   "metadata": {}
  },
  {
   "cell_type": "markdown",
   "source": [
    "You can use this tutorial by *insert method(s) here*. \n",
    "\n",
    "A bulleted list of the tasks the reader will accomplish and skills he or she will learn. Begin each list item with a noun (Learn, Create, Use, etc.).\n",
    "\n",
    "You will accomplish the following:\n",
    "\n",
    "- First task or skill\n",
    "- Second task or skill\n",
    "- X task or skill"
   ],
   "metadata": {}
  },
  {
   "cell_type": "markdown",
   "source": [
    "## Prerequisites"
   ],
   "metadata": {}
  },
  {
   "cell_type": "markdown",
   "source": [
    "Provide a *complete* list of the software, hardware, knowledge, and skills required to be successful using the tutorial. For each item, link the item to installation instructions, specs, or skill development tools, as appropriate. If good installation instructions aren't available for required software, start the tutorial with instructions for installing it."
   ],
   "metadata": {}
  },
  {
   "cell_type": "markdown",
   "source": [
    "To complete this tutorial, you need:\n",
    "\n",
    "- [MXNet](https://mxnet.apache.org/install/#overview)\n",
    "- [Language](https://mxnet.apache.org/tutorials/)\n",
    "- [Tool](https://mxnet.apache.org/api/python/index.html)\n",
    "- [Familiarity with concept or tool](https://gluon.mxnet.io/)\n"
   ],
   "metadata": {}
  },
  {
   "cell_type": "markdown",
   "source": [
    "## The Data"
   ],
   "metadata": {}
  },
  {
   "cell_type": "markdown",
   "source": [
    "Provide a link to where the data is hosted and explain how to download it. If it requires more than two steps, use a numbered list."
   ],
   "metadata": {}
  },
  {
   "cell_type": "markdown",
   "source": [
    "You can download the data used in this tutorial from the [Site Name](http://) site. To download the data:\n",
    "\n",
    "1. At the `<language>` prompt, type:\n",
    "\n",
    "    `<command>`\n",
    "2. Second task.\n",
    "\n",
    "3. Last task."
   ],
   "metadata": {}
  },
  {
   "cell_type": "markdown",
   "source": [
    "Briefly describe key aspects of the data. If there are two or more aspects of the data that require involved discussion, use subheads (### `<Concept or Sub-component Name>`). To include a graphic, introduce it with a brief description and use the image linking tool to include it. Store the graphic in GitHub and use the following format: <img width=\"517\" alt=\"screen shot 2016-05-06 at 10 13 16 pm\" src=\"https://cloud.githubusercontent.com/assets/5545640/15089697/d6f4fca0-13d7-11e6-9331-7f94fcc7b4c6.png\">. You do not need to provide a title for your graphics. "
   ],
   "metadata": {}
  },
  {
   "cell_type": "markdown",
   "source": [
    "The data *add description here. (optional)*"
   ],
   "metadata": {}
  },
  {
   "cell_type": "markdown",
   "source": [
    "## (Optional) Concept or Component Name"
   ],
   "metadata": {}
  },
  {
   "cell_type": "markdown",
   "source": [
    "If concepts or components need further introduction, include this section. If there are two or more aspects of the concept or component that require involved discussion, use subheads (### Concept or Sub-component Name)."
   ],
   "metadata": {}
  },
  {
   "cell_type": "markdown",
   "source": [
    "## Prepare the Data"
   ],
   "metadata": {}
  },
  {
   "cell_type": "markdown",
   "source": [
    "If appropriate, summarize the tasks required to prepare the data, defining and explaining key concepts."
   ],
   "metadata": {}
  },
  {
   "cell_type": "markdown",
   "source": [
    "To prepare the data, *provide explanation here.*"
   ],
   "metadata": {}
  },
  {
   "cell_type": "markdown",
   "source": [
    "Use a numbered procedure to explain how to prepare the data. Add code snippets or blocks that show the code that the user must type or that is used for this task in the Jupyter Notebook. To include code snippets, precede each line of code with four spaces and two tick marks. Always introduce input or output with a description or context or result, followed by a colon."
   ],
   "metadata": {}
  },
  {
   "cell_type": "markdown",
   "source": [
    "To prepare the data:\n",
    "\n",
    "1.\n",
    "\n",
    "2.\n",
    "\n",
    "3."
   ],
   "metadata": {}
  },
  {
   "cell_type": "markdown",
   "source": [
    "If there are any aspects of data preparation that require elaboration, add it here."
   ],
   "metadata": {}
  },
  {
   "cell_type": "markdown",
   "source": [
    "## Create the Model"
   ],
   "metadata": {}
  },
  {
   "cell_type": "markdown",
   "source": [
    "If appropriate, summarize the tasks required to create the model, defining and explaining key concepts."
   ],
   "metadata": {}
  },
  {
   "cell_type": "markdown",
   "source": [
    "To create the model, *provide explanation here.*"
   ],
   "metadata": {}
  },
  {
   "cell_type": "markdown",
   "source": [
    "Use a numbered procedure to explain how to create the data. Add code snippets or blocks that show the code that the user must type or that is used for this task in the Jupyter Notebook. To include code snippets, precede each line of code with four spaces and two tick marks. Always introduce input or output with a description or context or result, followed by a colon."
   ],
   "metadata": {}
  },
  {
   "cell_type": "markdown",
   "source": [
    "To create the model:\n",
    "\n",
    "1.\n",
    "\n",
    "2.\n",
    "\n",
    "3."
   ],
   "metadata": {}
  },
  {
   "cell_type": "markdown",
   "source": [
    "If there are any aspects of model creation that require elaboration, add it here."
   ],
   "metadata": {}
  },
  {
   "cell_type": "markdown",
   "source": [
    "## Fit the Model"
   ],
   "metadata": {}
  },
  {
   "cell_type": "markdown",
   "source": [
    "If appropriate, summarize the tasks required to fit the model, defining and explaining key concepts."
   ],
   "metadata": {}
  },
  {
   "cell_type": "markdown",
   "source": [
    "To fit the model, *provide explanation here.*"
   ],
   "metadata": {}
  },
  {
   "cell_type": "markdown",
   "source": [
    "Use a numbered procedure to explain how to fit the model. Add code snippets or blocks that show the code that the user must type or that is used for this task in the Jupyter Notebook. To include code snippets, precede each line of code with four spaces and two tick marks. Always introduce input or output with a description or context or result, followed by a colon."
   ],
   "metadata": {}
  },
  {
   "cell_type": "markdown",
   "source": [
    "To fit the model:\n",
    "\n",
    "1.\n",
    "\n",
    "2.\n",
    "\n",
    "3."
   ],
   "metadata": {}
  },
  {
   "cell_type": "markdown",
   "source": [
    "If there are any aspects of model fitting that require elaboration, add it here."
   ],
   "metadata": {}
  },
  {
   "cell_type": "markdown",
   "source": [
    "## Evaluate the Model"
   ],
   "metadata": {}
  },
  {
   "cell_type": "markdown",
   "source": [
    "If appropriate, summarize the tasks required to evaluate the model, defining and explaining key concepts."
   ],
   "metadata": {}
  },
  {
   "cell_type": "markdown",
   "source": [
    "To evaluate the model, *provide explanation here.*"
   ],
   "metadata": {}
  },
  {
   "cell_type": "markdown",
   "source": [
    "Use a numbered procedure to explain how to evaluate the model. Add code snippets or blocks that show the code that the user must type or that is used for this task in the Jupyter Notebook. To include code snippets, precede each line of code with four spaces and two tick marks. Always introduce input or output with a description or context or result, followed by a colon."
   ],
   "metadata": {}
  },
  {
   "cell_type": "markdown",
   "source": [
    "To evaluate the model:\n",
    "\n",
    "1.\n",
    "\n",
    "2.\n",
    "\n",
    "3."
   ],
   "metadata": {}
  },
  {
   "cell_type": "markdown",
   "source": [
    "If there are any aspects of model evaluation that require elaboration, add it here."
   ],
   "metadata": {}
  },
  {
   "cell_type": "markdown",
   "source": [
    "## (Optional) Additional Tasks"
   ],
   "metadata": {}
  },
  {
   "cell_type": "markdown",
   "source": [
    "If appropriate, summarize the tasks required to perform the task, defining and explaining key concepts."
   ],
   "metadata": {}
  },
  {
   "cell_type": "markdown",
   "source": [
    "To *perform the task*, *provide explanation here.*"
   ],
   "metadata": {}
  },
  {
   "cell_type": "markdown",
   "source": [
    "Use a numbered procedure to explain how to perform the task. Add code snippets or blocks that show the code that the user must type or that is used for this task in the Jupyter Notebook. To include code snippets, precede each line of code with four spaces and two tick marks. Always introduce input or output with a description or context or result, followed by a colon."
   ],
   "metadata": {}
  },
  {
   "cell_type": "markdown",
   "source": [
    "To *perform the task*:\n",
    "\n",
    "1.\n",
    "\n",
    "2.\n",
    "\n",
    "3."
   ],
   "metadata": {}
  },
  {
   "cell_type": "markdown",
   "source": [
    "If there are any aspects of model evaluation that require elaboration, add it here."
   ],
   "metadata": {}
  },
  {
   "cell_type": "markdown",
   "source": [
    "## Summary"
   ],
   "metadata": {}
  },
  {
   "cell_type": "markdown",
   "source": [
    "Briefly describe the end result of the tutorial and how the user can use it or modify it to customize it."
   ],
   "metadata": {}
  },
  {
   "cell_type": "markdown",
   "source": [
    "## Next Steps"
   ],
   "metadata": {}
  },
  {
   "cell_type": "markdown",
   "source": [
    "Provide a bulleted list of other documents, tools, or tutorials that further explain the concepts discussed in this tutorial or build on this tutorial. Start each list item with a brief description of a user task followed by the title of the destination site or topic that is formatted as a link."
   ],
   "metadata": {}
  },
  {
   "cell_type": "markdown",
   "source": [
    "- For more information on *topic*, see [Site Name](http://).\n",
    "- To learn more about using *tool or task*, see [Topic Title](http://).\n",
    "- To experiment with *service*, *tool*, or *object*, see [Site Name](http://).\n",
    "- For a more advanced tutorial on *subject*, see [Tutorial Title](http://)."
   ],
   "metadata": {}
  }
 ],
 "metadata": {
  "kernelspec": {
   "display_name": "Python 2",
   "language": "python",
   "name": "python2"
  },
  "language_info": {
   "codemirror_mode": {
    "name": "ipython",
    "version": 2
   },
   "file_extension": ".py",
   "mimetype": "text/x-python",
   "name": "python",
   "nbconvert_exporter": "python",
   "pygments_lexer": "ipython2",
   "version": "2.7.12"
  }
 },
 "nbformat": 4,
 "nbformat_minor": 2
}